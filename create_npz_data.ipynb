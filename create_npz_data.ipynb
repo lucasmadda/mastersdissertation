{
 "cells": [
  {
   "cell_type": "code",
   "execution_count": 1,
   "metadata": {},
   "outputs": [],
   "source": [
    "import pandas as pd\n",
    "import numpy as np\n",
    "import os\n",
    "from tqdm import tqdm"
   ]
  },
  {
   "cell_type": "code",
   "execution_count": 2,
   "metadata": {},
   "outputs": [],
   "source": [
    "struc_columns = ['heartrate', 'spo2', 'tempc', 'sysbp', 'meanbp', 'diasbp', 'resprate',\n",
    "       'baseexcess', 'bicarbonate', 'fio2', 'pf', 'pco2', 'so2', 'bun',\n",
    "       'calcium', 'chloride', 'creatinine', 'glucose', 'lactate', 'potassium',\n",
    "       'bilirubin_total', 'hct', 'hgb', 'ptt', 'wbc', 'platelets', 'admission_age']\n",
    "\n"
   ]
  },
  {
   "cell_type": "code",
   "execution_count": 3,
   "metadata": {},
   "outputs": [],
   "source": [
    "icustays = [int(i.split('.')[0]) for i in os.listdir('inputs')]\n",
    "icustays.sort()\n",
    "icustay_id_2_index = {icustay_id: i for i, icustay_id in enumerate(icustays)}\n",
    "\n",
    "with open('ids/icustay_id_2_index.txt', 'w') as fp:\n",
    "    for icu, index in icustay_id_2_index.items():\n",
    "        fp.write(str(icu)+ ' ' +  str(index) +'\\n')"
   ]
  },
  {
   "cell_type": "code",
   "execution_count": 4,
   "metadata": {},
   "outputs": [],
   "source": [
    "n_dim = len(struc_columns) + 768 #structured variables + bert dimension\n",
    "n_class = 1"
   ]
  },
  {
   "cell_type": "code",
   "execution_count": 6,
   "metadata": {},
   "outputs": [],
   "source": [
    "num_folds = 8\n",
    "\n",
    "with open('ids/test_ids.txt', 'r') as file:\n",
    "    # Read all lines from the file\n",
    "    lines = file.readlines()\n",
    "    # Strip whitespace from the end of each line and store them in a list\n",
    "    test_ids = [icustay_id_2_index[int(line.strip())] for line in lines]\n",
    "\n",
    "fold_dict = {fold: {'ids':{'train': None, 'validation': None, 'test': np.array(test_ids)}, 'means': None, 'stds': None} for fold in range(num_folds)}\n",
    "\n",
    "for fold in range(num_folds):\n",
    "\n",
    "    with open('ids/fold_%i_train.txt'%fold, 'r') as file:\n",
    "        # Read all lines from the file\n",
    "        lines = file.readlines()\n",
    "        # Strip whitespace from the end of each line and store them in a list\n",
    "        values = [icustay_id_2_index[int(line.strip())] for line in lines]\n",
    "        fold_dict[fold]['ids']['train'] = np.array(values)\n",
    "    with open('ids/fold_%i_test.txt'%fold, 'r') as file:\n",
    "        # Read all lines from the file\n",
    "        lines = file.readlines()\n",
    "        # Strip whitespace from the end of each line and store them in a list\n",
    "        values = [icustay_id_2_index[int(line.strip())] for line in lines]\n",
    "        fold_dict[fold]['ids']['validation'] = np.array(values)    ###actually is validation\n",
    "\n",
    "    with open('ids/fold_%i_means.csv'%fold, 'r') as file:\n",
    "        # Read all lines from the file\n",
    "        lines = file.readlines()\n",
    "        # Strip whitespace from the end of each line and store them in a list\n",
    "        values = [float(line.split(',')[1].strip()) for line in lines]\n",
    "        values += [0 for i in range(768)]\n",
    "        fold_dict[fold]['means'] = np.array(values)    ###actually is validation\n",
    "\n",
    "    with open('ids/fold_%i_stds.csv'%fold, 'r') as file:\n",
    "        # Read all lines from the file\n",
    "        lines = file.readlines()\n",
    "        # Strip whitespace from the end of each line and store them in a list\n",
    "        values = [float(line.split(',')[1].strip()) for line in lines]\n",
    "        values += [1 for i in range(768)]\n",
    "        fold_dict[fold]['stds'] = np.array(values)    ###actually is validation\n",
    "\n",
    "fold_taskname = np.array([np.array([fold_dict[i]['ids']['train'], fold_dict[i]['ids']['validation'], fold_dict[i]['ids']['test']], dtype = object) for i in range(num_folds)])\n",
    "mean_taskname = np.zeros((num_folds, 3, n_dim)) * np.nan\n",
    "std_taskname = np.zeros((num_folds, 3, n_dim)) * np.nan\n",
    "\n",
    "for i in range(num_folds):\n",
    "    mean_taskname[i][0] = fold_dict[i]['means']\n",
    "    std_taskname[i][0] = fold_dict[i]['stds']"
   ]
  },
  {
   "cell_type": "code",
   "execution_count": 7,
   "metadata": {},
   "outputs": [],
   "source": [
    "np.savez('fold.npz', fold_taskname = fold_taskname, mean_taskname = mean_taskname, std_taskname = std_taskname)"
   ]
  },
  {
   "cell_type": "code",
   "execution_count": 8,
   "metadata": {},
   "outputs": [
    {
     "name": "stderr",
     "output_type": "stream",
     "text": [
      "  0%|          | 0/28102 [00:00<?, ?it/s]"
     ]
    },
    {
     "name": "stderr",
     "output_type": "stream",
     "text": [
      "100%|██████████| 28102/28102 [30:20<00:00, 15.44it/s]\n"
     ]
    }
   ],
   "source": [
    "inputs = []\n",
    "maskings = []\n",
    "timestamps = []\n",
    "labels = []\n",
    "\n",
    "for icustay_id in tqdm(icustays):\n",
    "\n",
    "    file_path = 'inputs/' + str(icustay_id) + '.csv'\n",
    "    X = pd.read_csv(file_path, index_col = 0)\n",
    "    y = X['sepsis_onset'].max()\n",
    "    X = X.drop(['sepsis_in_4_hours', 'sepsis4_or_discharge_hr', 'sepsis_onset'], axis = 1)\n",
    "    s = np.array(X.index)\n",
    "    X = X.loc[:,[i for i in X.columns if '_clinical_kb_bert' not in i]]\n",
    "    M = X.notna().applymap(int).values\n",
    "    X = X.values\n",
    "    inputs.append(X)\n",
    "    maskings.append(M)\n",
    "    timestamps.append(s)\n",
    "    labels.append(y)"
   ]
  },
  {
   "cell_type": "code",
   "execution_count": 9,
   "metadata": {},
   "outputs": [],
   "source": [
    "input = np.array(inputs, dtype=object)\n",
    "del inputs\n",
    "masking = np.array(maskings, dtype=object)\n",
    "del maskings\n",
    "timestamp = np.array(timestamps, dtype=object)\n",
    "del timestamps\n",
    "label_taskname = np.array(labels)\n",
    "del labels\n",
    "\n",
    "np.savez('data.npz', input = input, masking = masking, timestamp = timestamp, label_taskname = label_taskname)"
   ]
  },
  {
   "cell_type": "code",
   "execution_count": null,
   "metadata": {},
   "outputs": [],
   "source": []
  }
 ],
 "metadata": {
  "kernelspec": {
   "display_name": ".venv",
   "language": "python",
   "name": "python3"
  },
  "language_info": {
   "codemirror_mode": {
    "name": "ipython",
    "version": 3
   },
   "file_extension": ".py",
   "mimetype": "text/x-python",
   "name": "python",
   "nbconvert_exporter": "python",
   "pygments_lexer": "ipython3",
   "version": "3.8.19"
  }
 },
 "nbformat": 4,
 "nbformat_minor": 2
}
