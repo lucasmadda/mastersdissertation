{
 "cells": [
  {
   "cell_type": "code",
   "execution_count": 1,
   "id": "initial_id",
   "metadata": {
    "ExecuteTime": {
     "end_time": "2024-04-15T11:08:45.446601Z",
     "start_time": "2024-04-15T11:08:44.727373Z"
    },
    "collapsed": true
   },
   "outputs": [],
   "source": [
    "import pandas as pd\n",
    "import numpy as np\n",
    "from tqdm import tqdm\n",
    "import math\n",
    "import matplotlib.pyplot as plt\n",
    "import seaborn as sns\n",
    "import os\n",
    "from sklearn.model_selection import train_test_split, StratifiedKFold"
   ]
  },
  {
   "cell_type": "code",
   "execution_count": null,
   "id": "90037f6a8d4819bb",
   "metadata": {
    "ExecuteTime": {
     "end_time": "2024-04-15T11:09:28.918627Z",
     "start_time": "2024-04-15T11:08:48.863411Z"
    },
    "collapsed": false
   },
   "outputs": [],
   "source": [
    "df = pd.read_csv('table.csv', low_memory = False).drop(['sepsis_time','intime','outtime', 'gender'], axis = 1)\n",
    "print(len(df))\n",
    "df = df.groupby('icustay_id').filter(lambda x: x['hr'].count() >= 12) #only icustays with more then 12 records\n",
    "print(len(df))"
   ]
  },
  {
   "cell_type": "code",
   "execution_count": null,
   "id": "a6005cc2",
   "metadata": {},
   "outputs": [],
   "source": [
    "df.groupby('icustay_id').sepsis_onset.max().value_counts()"
   ]
  },
  {
   "cell_type": "code",
   "execution_count": null,
   "id": "402dd0f4",
   "metadata": {},
   "outputs": [],
   "source": [
    "df.columns"
   ]
  },
  {
   "cell_type": "code",
   "execution_count": null,
   "id": "517e331b",
   "metadata": {},
   "outputs": [],
   "source": [
    "## check if we have an observation for hr = hr_sepsis + 4\n",
    "\n",
    "lacks_last_obs = (df[df.sepsis_onset == 1].groupby('icustay_id').hr.max() != df[df.sepsis_onset == 1].groupby('icustay_id').sepsis4_or_discharge_hr.max())\n",
    "max_obs = df[df.sepsis_onset == 1].groupby('icustay_id').sepsis4_or_discharge_hr.max()[lacks_last_obs].reset_index().rename({'sepsis4_or_discharge_hr':'hr'}, axis = 1)\n",
    "df_ = pd.DataFrame(columns = df.columns).astype(df.dtypes)\n",
    "df_.loc[:,]\n",
    "df = pd.concat([max_obs, df_, df]).set_index(['icustay_id', 'hr']).sort_index()\n",
    "df[['admission_age','sepsis_onset','sepsis4_or_discharge_hr']] = df[['admission_age','sepsis_onset','sepsis4_or_discharge_hr']].ffill()\n",
    "df.head()"
   ]
  },
  {
   "cell_type": "code",
   "execution_count": null,
   "id": "d579565d",
   "metadata": {},
   "outputs": [],
   "source": [
    "icustays_with_notes = df.groupby(level = 'icustay_id').ckbe_embedding.count() > 0\n",
    "icustays_with_notes = icustays_with_notes[icustays_with_notes].index\n",
    "icustays_with_notes"
   ]
  },
  {
   "cell_type": "code",
   "execution_count": 16,
   "id": "676e7413",
   "metadata": {},
   "outputs": [],
   "source": [
    "df = df[df.index.get_level_values('icustay_id').isin(icustays_with_notes)]"
   ]
  },
  {
   "cell_type": "code",
   "execution_count": null,
   "id": "6a64242c",
   "metadata": {},
   "outputs": [],
   "source": [
    "df['sepsis_in_4_hours'] = (df.index.get_level_values(level = 1) == df['sepsis4_or_discharge_hr'])\n",
    "df['sepsis_in_4_hours'] = df['sepsis_in_4_hours'].map(int)\n",
    "\n",
    "\n",
    "df.drop(['sepsis_onset','sepsis4_or_discharge_hr'], axis = 1)"
   ]
  },
  {
   "cell_type": "code",
   "execution_count": null,
   "id": "fd971176",
   "metadata": {},
   "outputs": [],
   "source": [
    "clinical_kb_bert = pd.DataFrame(list(df.ckbe_embedding.dropna().apply(lambda x: x.strip('[]').split(','))), columns = [str(i)+'_clinical_kb_bert' for i in range(768)],\n",
    "    index = df.ckbe_embedding.dropna().index).reindex(df.index)\n",
    "clinical_bert = pd.DataFrame(list(df.cbe_embedding.dropna().apply(lambda x: x.strip('[]').split(','))), columns = [str(i)+'_clinical_bert' for i in range(768)],\n",
    "    index = df.cbe_embedding.dropna().index).reindex(df.index)\n",
    "df = pd.concat([df, clinical_kb_bert, clinical_bert], axis = 1)\n",
    "del clinical_kb_bert, clinical_bert\n",
    "df = df.drop(['ckbe_embedding', 'cbe_embedding'], axis = 1)\n",
    "df"
   ]
  },
  {
   "cell_type": "code",
   "execution_count": 19,
   "id": "e17ab58c",
   "metadata": {},
   "outputs": [],
   "source": [
    "is_septic = df.groupby('icustay_id').sepsis_onset.max()\n",
    "septic_icu_ids = is_septic[is_septic == 1].index"
   ]
  },
  {
   "cell_type": "code",
   "execution_count": 20,
   "id": "6883694e",
   "metadata": {},
   "outputs": [],
   "source": [
    "icu_uniques = df.index.get_level_values(level = 'icustay_id').unique()"
   ]
  },
  {
   "cell_type": "code",
   "execution_count": null,
   "id": "cf579004",
   "metadata": {},
   "outputs": [],
   "source": [
    "if not os.path.exists('inputs'):\n",
    "    os.mkdir('inputs')\n",
    "\n",
    "icu_uniques = df.index.get_level_values(level = 'icustay_id').unique()\n",
    "\n",
    "for icu in tqdm(icu_uniques):\n",
    "\n",
    "    df.loc[(icu,)].to_csv('inputs/%i.csv'%icu)"
   ]
  },
  {
   "cell_type": "code",
   "execution_count": 21,
   "id": "8a4051a7",
   "metadata": {},
   "outputs": [],
   "source": [
    "if not os.path.exists('ids'):\n",
    "    os.mkdir('ids')\n",
    "\n",
    "columns = ['heartrate', 'spo2', 'tempc', 'sysbp', 'meanbp', 'diasbp', 'resprate',\n",
    "       'baseexcess', 'bicarbonate', 'fio2', 'pf', 'pco2', 'so2', 'bun',\n",
    "       'calcium', 'chloride', 'creatinine', 'glucose', 'lactate', 'potassium',\n",
    "       'bilirubin_total', 'hct', 'hgb', 'ptt', 'wbc', 'platelets', 'admission_age']\n",
    "\n",
    "train_idx, test_idx = train_test_split(is_septic, train_size=0.8, random_state=5521, stratify=is_septic)\n",
    "train_idx = train_idx.index\n",
    "test_idx = test_idx.index\n",
    "\n",
    "with open('ids/train_ids.txt', 'w') as fp:\n",
    "    for id in train_idx:\n",
    "        fp.write(str(id)+'\\n')\n",
    "\n",
    "with open('ids/test_ids.txt', 'w') as fp:\n",
    "    for id in test_idx:\n",
    "        fp.write(str(id)+'\\n')\n",
    "\n",
    "with open('ids/is_septic.txt', 'w') as fp:\n",
    "    for id in is_septic.keys():\n",
    "        fp.write(str(id)+ ' ' +  str(is_septic[id]) +'\\n')"
   ]
  },
  {
   "cell_type": "code",
   "execution_count": 22,
   "id": "bd2f86b9",
   "metadata": {},
   "outputs": [],
   "source": [
    "n_folds = 8\n",
    "folds = np.empty(n_folds, dtype = object)\n",
    "for i_split, idx in enumerate(StratifiedKFold(n_folds, shuffle=True, random_state=5521).split(X = is_septic[train_idx].index, y = is_septic[train_idx])):\n",
    "    folds[i_split] = (np.array(is_septic.index[idx[0]]), np.array(is_septic.index[idx[1]]))"
   ]
  },
  {
   "cell_type": "code",
   "execution_count": 23,
   "id": "e37446ff",
   "metadata": {},
   "outputs": [],
   "source": [
    "stats_per_fold = {fold: {'mean': df[columns][df.index.get_level_values('icustay_id').isin(folds[fold][0])].mean(),\n",
    "                         'std': df[columns][df.index.get_level_values('icustay_id').isin(folds[fold][0])].std()} for fold in range(n_folds)}\n",
    "stats_per_fold[-1] = {'mean': df[columns][df.index.get_level_values('icustay_id').isin(train_idx)].mean(),\n",
    "                      'std': df[columns][df.index.get_level_values('icustay_id').isin(train_idx)].std()}"
   ]
  },
  {
   "cell_type": "code",
   "execution_count": null,
   "id": "e90115df",
   "metadata": {},
   "outputs": [],
   "source": [
    "for i in tqdm(range(n_folds)):\n",
    "    #train\n",
    "    fold_train_idx = folds[i][0]\n",
    "    fold_test_idx = folds[i][1]\n",
    "    with open('ids/fold_%i_train.txt'%i, 'w') as fp:\n",
    "        for id in fold_train_idx:\n",
    "            fp.write(str(id)+'\\n')\n",
    "    with open('ids/fold_%i_test.txt'%i, 'w') as fp:\n",
    "        for id in fold_test_idx:\n",
    "            fp.write(str(id)+'\\n')\n",
    "\n",
    "    stats_per_fold[i]['mean'].to_csv('ids/fold_%i_means.csv'%i, header = False)\n",
    "    stats_per_fold[i]['std'].to_csv('ids/fold_%i_stds.csv'%i, header = False)\n",
    "\n",
    "stats_per_fold[-1]['mean'].to_csv('ids/train_means.csv', header = False)\n",
    "stats_per_fold[-1]['std'].to_csv('ids/train_stds.csv', header = False)"
   ]
  },
  {
   "cell_type": "code",
   "execution_count": null,
   "id": "5c9fd04c",
   "metadata": {},
   "outputs": [],
   "source": [
    "clinical_bert_columns = df.columns[df.columns.str.contains('_clinical_bert')]\n",
    "clinical_kb_bert_columns = df.columns[df.columns.str.contains('_clinical_kb_bert')]"
   ]
  },
  {
   "cell_type": "code",
   "execution_count": null,
   "id": "6fd900d7",
   "metadata": {},
   "outputs": [],
   "source": []
  }
 ],
 "metadata": {
  "kernelspec": {
   "display_name": ".venv",
   "language": "python",
   "name": "python3"
  },
  "language_info": {
   "codemirror_mode": {
    "name": "ipython",
    "version": 3
   },
   "file_extension": ".py",
   "mimetype": "text/x-python",
   "name": "python",
   "nbconvert_exporter": "python",
   "pygments_lexer": "ipython3",
   "version": "3.8.19"
  }
 },
 "nbformat": 4,
 "nbformat_minor": 5
}
